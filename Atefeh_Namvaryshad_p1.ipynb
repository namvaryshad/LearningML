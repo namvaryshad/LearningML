{
  "nbformat": 4,
  "nbformat_minor": 0,
  "metadata": {
    "colab": {
      "name": "Atefeh_Namvaryshad_p1.ipynb",
      "provenance": [],
      "collapsed_sections": [],
      "include_colab_link": true
    },
    "kernelspec": {
      "name": "python3",
      "display_name": "Python 3"
    }
  },
  "cells": [
    {
      "cell_type": "markdown",
      "metadata": {
        "id": "view-in-github",
        "colab_type": "text"
      },
      "source": [
        "<a href=\"https://colab.research.google.com/github/namvaryshad/LearningML/blob/main/Atefeh_Namvaryshad_p1.ipynb\" target=\"_parent\"><img src=\"https://colab.research.google.com/assets/colab-badge.svg\" alt=\"Open In Colab\"/></a>"
      ]
    },
    {
      "cell_type": "code",
      "metadata": {
        "id": "023oTTYMrBfk"
      },
      "source": [
        "Atefeh Namvaryshad - W207 - P1"
      ],
      "execution_count": null,
      "outputs": []
    },
    {
      "cell_type": "markdown",
      "metadata": {
        "id": "z6UHmLYVhWAN"
      },
      "source": [
        "# Project 1: Digit Classification with KNN and Naive Bayes"
      ]
    },
    {
      "cell_type": "markdown",
      "metadata": {
        "id": "03M_JSg3hWAO"
      },
      "source": [
        "In this project, you'll implement your own image recognition system for classifying digits. Read through the code and the instructions carefully and add your own code where indicated. Each problem can be addressed succinctly with the included packages -- please don't add any more. Grading will be based on writing clean, commented code, along with a few short answers.\n",
        "\n",
        "As always, you're welcome to work on the project in groups and discuss ideas on the course wall, but <b> please prepare your own write-up (with your own code). </b>\n",
        "\n",
        "If you're interested, check out these links related to digit recognition:\n",
        "\n",
        "* Yann Lecun's MNIST benchmarks: http://yann.lecun.com/exdb/mnist/\n",
        "* Stanford Streetview research and data: http://ufldl.stanford.edu/housenumbers/\n",
        "\n",
        "Finally, if you'd like to get started with Tensorflow, you can read through this tutorial: https://www.tensorflow.org/tutorials/keras/basic_classification. It uses a dataset called \"fashion_mnist\", which is identical in structure to the original digit mnist, but uses images of clothing rather than images of digits. The number of training examples and number of labels is the same. In fact, you can simply replace the code that loads \"fashion_mnist\" with simply \"mnist\" and everything should work fine."
      ]
    },
    {
      "cell_type": "code",
      "metadata": {
        "id": "iJ9ayCvyhWAP"
      },
      "source": [
        "# This tells matplotlib not to try opening a new window for each plot.\n",
        "%matplotlib inline\n",
        "\n",
        "# Import a bunch of libraries.\n",
        "import time\n",
        "import numpy as np\n",
        "import matplotlib.pyplot as plt\n",
        "from matplotlib.ticker import MultipleLocator\n",
        "from sklearn.pipeline import Pipeline\n",
        "from sklearn.datasets import fetch_openml\n",
        "from sklearn.neighbors import KNeighborsClassifier\n",
        "from sklearn.metrics import confusion_matrix\n",
        "from sklearn.linear_model import LinearRegression\n",
        "from sklearn.naive_bayes import BernoulliNB\n",
        "from sklearn.naive_bayes import MultinomialNB\n",
        "from sklearn.naive_bayes import GaussianNB\n",
        "from sklearn.model_selection import GridSearchCV\n",
        "from sklearn.metrics import classification_report\n",
        "\n",
        "# Set the randomizer seed so results are the same each time.\n",
        "np.random.seed(0)"
      ],
      "execution_count": 5,
      "outputs": []
    },
    {
      "cell_type": "markdown",
      "metadata": {
        "id": "sO1t0ypThWAR"
      },
      "source": [
        "Load the data. Notice that we are splitting the data into training, development, and test. We also have a small subset of the training data called mini_train_data and mini_train_labels that you should use in all the experiments below, unless otherwise noted."
      ]
    },
    {
      "cell_type": "code",
      "metadata": {
        "id": "3yK9DacchWAS",
        "colab": {
          "base_uri": "https://localhost:8080/",
          "height": 0
        },
        "outputId": "2c3d994e-cfb0-487c-dce6-7e0317751efc"
      },
      "source": [
        "# Load the digit data from https://www.openml.org/d/554 or from default local location '~/scikit_learn_data/...'\n",
        "X, Y = fetch_openml(name='mnist_784', return_X_y=True, cache=False)\n",
        "\n",
        "\n",
        "# Rescale grayscale values to [0,1].\n",
        "X = X / 255.0\n",
        "\n",
        "# Shuffle the input: create a random permutation of the integers between 0 and the number of data points and apply this\n",
        "# permutation to X and Y.\n",
        "# NOTE: Each time you run this cell, you'll re-shuffle the data, resulting in a different ordering.\n",
        "shuffle = np.random.permutation(np.arange(X.shape[0]))\n",
        "X, Y = X[shuffle], Y[shuffle]\n",
        "\n",
        "print('data shape: ', X.shape)\n",
        "print('label shape:', Y.shape)\n",
        "\n",
        "# Set some variables to hold test, dev, and training data.\n",
        "test_data, test_labels = X[61000:], Y[61000:]\n",
        "dev_data, dev_labels = X[60000:61000], Y[60000:61000]\n",
        "train_data, train_labels = X[:60000], Y[:60000]\n",
        "mini_train_data, mini_train_labels = X[:1000], Y[:1000]"
      ],
      "execution_count": 6,
      "outputs": [
        {
          "output_type": "stream",
          "text": [
            "data shape:  (70000, 784)\n",
            "label shape: (70000,)\n"
          ],
          "name": "stdout"
        }
      ]
    },
    {
      "cell_type": "markdown",
      "metadata": {
        "id": "atc2JpWKhWAV"
      },
      "source": [
        "(1) Create a 10x10 grid to visualize 10 examples of each digit. Python hints:\n",
        "\n",
        "- plt.rc() for setting the colormap, for example to black and white\n",
        "- plt.subplot() for creating subplots\n",
        "- plt.imshow() for rendering a matrix\n",
        "- np.array.reshape() for reshaping a 1D feature vector into a 2D matrix (for rendering)"
      ]
    },
    {
      "cell_type": "code",
      "metadata": {
        "id": "YwYsUIL_VA7i",
        "colab": {
          "base_uri": "https://localhost:8080/",
          "height": 0
        },
        "outputId": "88a2c9e5-b67a-41f3-dc8b-8da5eb2c1566"
      },
      "source": [
        "train_labels"
      ],
      "execution_count": 7,
      "outputs": [
        {
          "output_type": "execute_result",
          "data": {
            "text/plain": [
              "array(['0', '4', '1', ..., '7', '5', '7'], dtype=object)"
            ]
          },
          "metadata": {
            "tags": []
          },
          "execution_count": 7
        }
      ]
    },
    {
      "cell_type": "code",
      "metadata": {
        "id": "436UeH7JhWAW",
        "colab": {
          "base_uri": "https://localhost:8080/",
          "height": 269
        },
        "outputId": "b4ee6eef-5ec6-4791-9090-a14b26606b35"
      },
      "source": [
        "def P1(num_examples=10):\n",
        "  ### STUDENT START ###\n",
        "  figure, axes = plt.subplots(10, 10)\n",
        "  for x in range(0, 10):\n",
        "    for y in range(0, 10):\n",
        "      for z in range(0, len(train_labels)):\n",
        "        num = z\n",
        "        if train_labels[num] == str(x):\n",
        "          axes[x,y].imshow(train_data[z].reshape(28, 28))\n",
        "          break\n",
        "  ### STUDENT END ###\n",
        "\n",
        "P1(10)"
      ],
      "execution_count": 8,
      "outputs": [
        {
          "output_type": "display_data",
          "data": {
            "image/png": "[encoded data removed]",
            "text/plain": [
              "<Figure size 432x288 with 100 Axes>"
            ]
          },
          "metadata": {
            "tags": [],
            "needs_background": "light"
          }
        }
      ]
    },
    {
      "cell_type": "markdown",
      "metadata": {
        "id": "EMQAHr7QhWAX"
      },
      "source": [
        "(2) Evaluate a K-Nearest-Neighbors model with k = [1,3,5,7,9] using the mini training set. Report accuracy on the dev set. For k=1, show precision, recall, and F1 for each label. Which is the most difficult digit?\n",
        "\n",
        "- KNeighborsClassifier() for fitting and predicting\n",
        "- classification_report() for producing precision, recall, F1 results"
      ]
    },
    {
      "cell_type": "code",
      "metadata": {
        "id": "-it5pn8-hWAY",
        "colab": {
          "base_uri": "https://localhost:8080/",
          "height": 0
        },
        "outputId": "1be46c45-e5fb-490f-ba59-9579ada95519"
      },
      "source": [
        "def P2(k_values):\n",
        "\n",
        "### STUDENT START ###\n",
        " \n",
        "  for k in k_values:\n",
        "\n",
        "    knn = KNeighborsClassifier(n_neighbors=k)\n",
        "\n",
        "    knn.fit(mini_train_data, mini_train_labels)\n",
        "\n",
        "    dev_predicted_labels = knn.predict(dev_data)\n",
        "    \n",
        "    print(\"k = \", k,\": \",knn.score(dev_data, dev_labels), \" accuracy\", sep=\"\")\n",
        "    \n",
        "    knn = KNeighborsClassifier(n_neighbors=1)\n",
        "    knn.fit(mini_train_data, mini_train_labels)\n",
        "    pred = knn.predict(dev_data)\n",
        "    print(classification_report(dev_labels, pred))\n",
        "  \n",
        "### STUDENT END ### \n",
        "k_values = [1, 3, 5, 7, 9]\n",
        "P2(k_values) "
      ],
      "execution_count": 64,
      "outputs": [
        {
          "output_type": "stream",
          "text": [
            "k = 1: 0.884 accuracy\n",
            "              precision    recall  f1-score   support\n",
            "\n",
            "           0       0.95      0.95      0.95       106\n",
            "           1       0.89      0.98      0.93       118\n",
            "           2       0.90      0.79      0.84       106\n",
            "           3       0.93      0.87      0.90        97\n",
            "           4       0.91      0.85      0.88        92\n",
            "           5       0.86      0.88      0.87        88\n",
            "           6       0.92      0.92      0.92       102\n",
            "           7       0.85      0.94      0.89       102\n",
            "           8       0.83      0.77      0.80        94\n",
            "           9       0.80      0.86      0.83        95\n",
            "\n",
            "    accuracy                           0.88      1000\n",
            "   macro avg       0.88      0.88      0.88      1000\n",
            "weighted avg       0.89      0.88      0.88      1000\n",
            "\n",
            "k = 3: 0.876 accuracy\n",
            "              precision    recall  f1-score   support\n",
            "\n",
            "           0       0.95      0.95      0.95       106\n",
            "           1       0.89      0.98      0.93       118\n",
            "           2       0.90      0.79      0.84       106\n",
            "           3       0.93      0.87      0.90        97\n",
            "           4       0.91      0.85      0.88        92\n",
            "           5       0.86      0.88      0.87        88\n",
            "           6       0.92      0.92      0.92       102\n",
            "           7       0.85      0.94      0.89       102\n",
            "           8       0.83      0.77      0.80        94\n",
            "           9       0.80      0.86      0.83        95\n",
            "\n",
            "    accuracy                           0.88      1000\n",
            "   macro avg       0.88      0.88      0.88      1000\n",
            "weighted avg       0.89      0.88      0.88      1000\n",
            "\n",
            "k = 5: 0.882 accuracy\n",
            "              precision    recall  f1-score   support\n",
            "\n",
            "           0       0.95      0.95      0.95       106\n",
            "           1       0.89      0.98      0.93       118\n",
            "           2       0.90      0.79      0.84       106\n",
            "           3       0.93      0.87      0.90        97\n",
            "           4       0.91      0.85      0.88        92\n",
            "           5       0.86      0.88      0.87        88\n",
            "           6       0.92      0.92      0.92       102\n",
            "           7       0.85      0.94      0.89       102\n",
            "           8       0.83      0.77      0.80        94\n",
            "           9       0.80      0.86      0.83        95\n",
            "\n",
            "    accuracy                           0.88      1000\n",
            "   macro avg       0.88      0.88      0.88      1000\n",
            "weighted avg       0.89      0.88      0.88      1000\n",
            "\n",
            "k = 7: 0.877 accuracy\n",
            "              precision    recall  f1-score   support\n",
            "\n",
            "           0       0.95      0.95      0.95       106\n",
            "           1       0.89      0.98      0.93       118\n",
            "           2       0.90      0.79      0.84       106\n",
            "           3       0.93      0.87      0.90        97\n",
            "           4       0.91      0.85      0.88        92\n",
            "           5       0.86      0.88      0.87        88\n",
            "           6       0.92      0.92      0.92       102\n",
            "           7       0.85      0.94      0.89       102\n",
            "           8       0.83      0.77      0.80        94\n",
            "           9       0.80      0.86      0.83        95\n",
            "\n",
            "    accuracy                           0.88      1000\n",
            "   macro avg       0.88      0.88      0.88      1000\n",
            "weighted avg       0.89      0.88      0.88      1000\n",
            "\n",
            "k = 9: 0.875 accuracy\n",
            "              precision    recall  f1-score   support\n",
            "\n",
            "           0       0.95      0.95      0.95       106\n",
            "           1       0.89      0.98      0.93       118\n",
            "           2       0.90      0.79      0.84       106\n",
            "           3       0.93      0.87      0.90        97\n",
            "           4       0.91      0.85      0.88        92\n",
            "           5       0.86      0.88      0.87        88\n",
            "           6       0.92      0.92      0.92       102\n",
            "           7       0.85      0.94      0.89       102\n",
            "           8       0.83      0.77      0.80        94\n",
            "           9       0.80      0.86      0.83        95\n",
            "\n",
            "    accuracy                           0.88      1000\n",
            "   macro avg       0.88      0.88      0.88      1000\n",
            "weighted avg       0.89      0.88      0.88      1000\n",
            "\n"
          ],
          "name": "stdout"
        }
      ]
    },
    {
      "cell_type": "markdown",
      "metadata": {
        "id": "tZc9gzn5hWAZ"
      },
      "source": [
        "ANSWER: Number 2 had the lowest recall, number 8 had the lowest f1-score and number 9 had the lowest precision. It looks number 9 is the most dificult digit to predict near k1."
      ]
    },
    {
      "cell_type": "markdown",
      "metadata": {
        "id": "7b6YEAzzhWAa"
      },
      "source": [
        "(3) Using k=1, report dev set accuracy for the training set sizes below. Also, measure the amount of time needed for prediction with each training size.\n",
        "\n",
        "- time.time() gives a wall clock value you can use for timing operations"
      ]
    },
    {
      "cell_type": "code",
      "metadata": {
        "id": "6GivK_zaWkT5",
        "colab": {
          "base_uri": "https://localhost:8080/",
          "height": 0
        },
        "outputId": "8a50a35a-73e2-428d-9b57-f93984239c48"
      },
      "source": [
        "len(dev_data[:200])"
      ],
      "execution_count": 10,
      "outputs": [
        {
          "output_type": "execute_result",
          "data": {
            "text/plain": [
              "200"
            ]
          },
          "metadata": {
            "tags": []
          },
          "execution_count": 10
        }
      ]
    },
    {
      "cell_type": "code",
      "metadata": {
        "id": "gEpNzDEjhWAa",
        "colab": {
          "base_uri": "https://localhost:8080/",
          "height": 0
        },
        "outputId": "b09abfe6-55b8-4f80-ad30-02adf8ddd613"
      },
      "source": [
        "def P3(train_sizes, accuracies):\n",
        "\n",
        "### STUDENT START ###\n",
        "\n",
        "    for size in train_sizes:\n",
        "    \n",
        "        \n",
        "        model = KNeighborsClassifier(n_neighbors=1)\n",
        "\n",
        "        model.fit(train_data[:size], train_labels[:size])\n",
        "    \n",
        "        time_initial = time.time()\n",
        "\n",
        "        test_predicted_labels = model.predict(dev_data)\n",
        "    \n",
        "        time_final = time.time()\n",
        "    \n",
        "        print(\"training set size \", size, \": \", model.score(dev_data, dev_labels), \" accuracy; \",\n",
        "              \"%.2f\" % (time_final - time_initial), \" sec\", sep=\"\")      \n",
        "    \n",
        "        # This is a accuracy list for the next problem\n",
        "        accuracies.append(model.score(dev_data, dev_labels))\n",
        "\n",
        "### STUDENT END ###\n",
        "\n",
        "train_sizes = [100, 200, 400, 800, 1600, 3200, 6400, 12800, 25000]\n",
        "accuracies = []\n",
        "P3(train_sizes, accuracies)"
      ],
      "execution_count": 11,
      "outputs": [
        {
          "output_type": "stream",
          "text": [
            "training set size 100: 0.702 accuracy; 0.18 sec\n",
            "training set size 200: 0.791 accuracy; 0.34 sec\n",
            "training set size 400: 0.811 accuracy; 0.66 sec\n",
            "training set size 800: 0.866 accuracy; 1.29 sec\n",
            "training set size 1600: 0.905 accuracy; 2.71 sec\n",
            "training set size 3200: 0.927 accuracy; 5.48 sec\n",
            "training set size 6400: 0.939 accuracy; 10.91 sec\n",
            "training set size 12800: 0.952 accuracy; 21.79 sec\n",
            "training set size 25000: 0.962 accuracy; 43.02 sec\n"
          ],
          "name": "stdout"
        }
      ]
    },
    {
      "cell_type": "code",
      "metadata": {
        "id": "pWvOxndzl1xm",
        "colab": {
          "base_uri": "https://localhost:8080/",
          "height": 130
        },
        "outputId": "50ea70e1-139f-4407-e3d2-cac87980ecf5"
      },
      "source": [
        "train size =   100    dev accuracy = 0.7020    time = 0.28 sec\n",
        "train size =   200    dev accuracy = 0.7910    time = 0.48 sec\n",
        "train size =   400    dev accuracy = 0.8110    time = 0.94 sec\n",
        "train size =   800    dev accuracy = 0.8660    time = 1.83 sec\n",
        "train size =  1600    dev accuracy = 0.9050    time = 3.30 sec\n",
        "train size =  3200    dev accuracy = 0.9270    time = 6.89 sec\n",
        "train size =  6400    dev accuracy = 0.9390    time = 15.16 sec\n",
        "train size = 12800    dev accuracy = 0.9520    time = 38.94 sec\n",
        "train size = 25600    dev accuracy = 0.9630    time = 50.76 sec"
      ],
      "execution_count": 24,
      "outputs": [
        {
          "output_type": "error",
          "ename": "SyntaxError",
          "evalue": "ignored",
          "traceback": [
            "\u001b[0;36m  File \u001b[0;32m\"<ipython-input-24-ef597bac2e3b>\"\u001b[0;36m, line \u001b[0;32m1\u001b[0m\n\u001b[0;31m    train size =   100    dev accuracy = 0.7020    time = 0.28 sec\u001b[0m\n\u001b[0m             ^\u001b[0m\n\u001b[0;31mSyntaxError\u001b[0m\u001b[0;31m:\u001b[0m invalid syntax\n"
          ]
        }
      ]
    },
    {
      "cell_type": "markdown",
      "metadata": {
        "id": "B56lVsKNhWAc"
      },
      "source": [
        "(4) Fit a regression model that predicts accuracy from training size. What does it predict for n=60000? What's wrong with using regression here? Can you apply a transformation that makes the predictions more reasonable?\n",
        "\n",
        "- Remember that the sklearn fit() functions take an input matrix X and output vector Y. So each input example in X is a vector, even if it contains only a single value."
      ]
    },
    {
      "cell_type": "code",
      "metadata": {
        "id": "FZWgbQcWm7bL"
      },
      "source": [
        "x_sizes = np.array(train_sizes)[:, np.newaxis]"
      ],
      "execution_count": 12,
      "outputs": []
    },
    {
      "cell_type": "code",
      "metadata": {
        "id": "9tFixmbTnMi2"
      },
      "source": [
        "accuracies = [0.7020, 0.7910, 0.8110, 0.8660, 0.9050, 0.9270, 0.9390, 0.9520, 0.9630]"
      ],
      "execution_count": 14,
      "outputs": []
    },
    {
      "cell_type": "markdown",
      "metadata": {
        "id": "sMbZk2nHnL9h"
      },
      "source": [
        ""
      ]
    },
    {
      "cell_type": "code",
      "metadata": {
        "id": "29q827gOnAjW",
        "colab": {
          "base_uri": "https://localhost:8080/",
          "height": 0
        },
        "outputId": "31a973f7-c8c1-419c-99ee-776990d7c718"
      },
      "source": [
        "np.array(train_sizes)[:, np.newaxis]"
      ],
      "execution_count": 15,
      "outputs": [
        {
          "output_type": "execute_result",
          "data": {
            "text/plain": [
              "array([[  100],\n",
              "       [  200],\n",
              "       [  400],\n",
              "       [  800],\n",
              "       [ 1600],\n",
              "       [ 3200],\n",
              "       [ 6400],\n",
              "       [12800],\n",
              "       [25000]])"
            ]
          },
          "metadata": {
            "tags": []
          },
          "execution_count": 15
        }
      ]
    },
    {
      "cell_type": "code",
      "metadata": {
        "id": "wUrLK_ItqXXb",
        "colab": {
          "base_uri": "https://localhost:8080/",
          "height": 0
        },
        "outputId": "a0fd3cab-761b-40c6-91c4-d390b2673929"
      },
      "source": [
        "np.array(np.log(train_sizes))[:, np.newaxis]"
      ],
      "execution_count": 16,
      "outputs": [
        {
          "output_type": "execute_result",
          "data": {
            "text/plain": [
              "array([[ 4.60517019],\n",
              "       [ 5.29831737],\n",
              "       [ 5.99146455],\n",
              "       [ 6.68461173],\n",
              "       [ 7.37775891],\n",
              "       [ 8.07090609],\n",
              "       [ 8.76405327],\n",
              "       [ 9.45720045],\n",
              "       [10.1266311 ]])"
            ]
          },
          "metadata": {
            "tags": []
          },
          "execution_count": 16
        }
      ]
    },
    {
      "cell_type": "code",
      "metadata": {
        "id": "gTgmtvgVqahk",
        "colab": {
          "base_uri": "https://localhost:8080/",
          "height": 0
        },
        "outputId": "06b9e6e0-9fd9-4f25-bfde-6315d0eff547"
      },
      "source": [
        "np.log(400)"
      ],
      "execution_count": 17,
      "outputs": [
        {
          "output_type": "execute_result",
          "data": {
            "text/plain": [
              "5.991464547107982"
            ]
          },
          "metadata": {
            "tags": []
          },
          "execution_count": 17
        }
      ]
    },
    {
      "cell_type": "markdown",
      "metadata": {
        "id": "GKGnaDmCqu0D"
      },
      "source": [
        "Train the linear regression models on all of the (transformed) accuracies estimated in Problem 3.\n",
        "\n",
        "Evaluate the linear regression models on all of the (transformed) accuracies estimated in Problem 3.\n",
        "\n",
        "You can use LinearRegression to produce a linear regression model.\n",
        "\n",
        "Remember that the sklearn fit() functions take an input matrix X and output vector Y. So, each input example in X is a vector, even if it contains only a single value.\n",
        "\n",
        "Hint re: predictor feature transform: Accuracy increases with training set size logarithmically.\n",
        "\n",
        "Hint re: outcome transform: When y is a number in range 0 to 1, then odds(y)=y/(1-y) is a number in range 0 to infinity."
      ]
    },
    {
      "cell_type": "code",
      "metadata": {
        "id": "4xE_qIJghWAc",
        "colab": {
          "base_uri": "https://localhost:8080/",
          "height": 726
        },
        "outputId": "1912b3d8-755b-4c0b-d9b7-d7b0254338cb"
      },
      "source": [
        "#def P4():\n",
        "\n",
        "### STUDENT START ###\n",
        "\n",
        "    # input/output \n",
        "Input_X = np.asarray(train_sizes).reshape(-1, 1)\n",
        "Output_Y = np.asarray(accuracies)\n",
        "\n",
        "    # linear regression\n",
        "LR = LinearRegression (fit_intercept=True)\n",
        "LR.fit(Input_X, Output_Y)\n",
        "\n",
        "    # Printing metrics\n",
        "print ('R^2 = %.4f' % (LR.score(Input_X,Output_Y)))\n",
        "print ('Intercept = %.4f' % (LR.intercept_))\n",
        "print ('Coefficient = %.8f' % (LR.coef_))\n",
        "print ('Estimated function: y = %.4f + %.8fx' %(LR.intercept_, LR.coef_[0]))\n",
        "\n",
        "\n",
        "    # scatter plot visualization\n",
        "plt.scatter(Input_X, Output_Y)\n",
        "plt.title(\"Train Sizes vs. Accuracy\")\n",
        "plt.xlabel(\"Train Sizes\")\n",
        "plt.ylabel(\"Accuracy\")\n",
        "plt.show()\n",
        "\n",
        "    # Transformed /training size data + linear relationship \n",
        "Input_X_SQRT = np.asarray(1 / np.sqrt(train_sizes)).reshape(-1,1)\n",
        "Output_Y = np.asarray(accuracies)\n",
        "\n",
        "    # Creating a scatter plot to show that after transformation the relationship is far more linear\n",
        "plt.scatter(Input_X_SQRT, Output_Y)\n",
        "plt.title(\"1/SQRT(Train Sizes) vs. Accuracy\")\n",
        "plt.xlabel(\"1/SQRT(Train Sizes)\")\n",
        "plt.ylabel(\"Accuracy\")\n",
        "plt.show()\n",
        "\n",
        "    # linear regression with the training size data\n",
        "LR = LinearRegression (fit_intercept=True)\n",
        "LR.fit(Input_X_SQRT, Output_Y)\n",
        "\n",
        "    #metrics related to the transformed linear regression output\n",
        "print ('R^2 = %.4f' % (LR.score(Input_X_SQRT,Output_Y)))\n",
        "print ('Intercept = %.4f' % (LR.intercept_))\n",
        "print ('Coefficient = %.8f' % (LR.coef_))\n",
        "print ('Estimated function: y = %.4f + 1/sqrt(%.8fx)' %(LR.intercept_, LR.coef_[0]))\n",
        "\n",
        "   \n",
        "    #training data size accuracy w/size 60,000\n",
        "model = KNeighborsClassifier(n_neighbors=1)\n",
        "model.fit(train_data[:60000], train_labels[:60000])\n",
        "test_predicted_labels = model.predict(dev_data)\n",
        "print (\"Accuracy with Training Data Size 60,0000 predicted by k Nearest Neighbors: \",model.score(dev_data, dev_labels),\n",
        "          \" model accuracy\", sep=\"\")\n",
        "\n",
        "\n",
        "### STUDENT END ###\n"
      ],
      "execution_count": 23,
      "outputs": [
        {
          "output_type": "stream",
          "text": [
            "R^2 = 0.4233\n",
            "Intercept = 0.8343\n",
            "Coefficient = 0.00000687\n",
            "Estimated function: y = 0.8343 + 0.00000687x\n"
          ],
          "name": "stdout"
        },
        {
          "output_type": "display_data",
          "data": {
            "image/png": "[encoded data removed]",
            "text/plain": [
              "<Figure size 432x288 with 1 Axes>"
            ]
          },
          "metadata": {
            "tags": [],
            "needs_background": "light"
          }
        },
        {
          "output_type": "display_data",
          "data": {
            "image/png": "[encoded data removed]",
            "text/plain": [
              "<Figure size 432x288 with 1 Axes>"
            ]
          },
          "metadata": {
            "tags": [],
            "needs_background": "light"
          }
        },
        {
          "output_type": "stream",
          "text": [
            "R^2 = 0.9850\n",
            "Intercept = 0.9727\n",
            "Coefficient = -2.75266359\n",
            "Estimated function: y = 0.9727 + 1/sqrt(-2.75266359x)\n",
            "Accuracy with Training Data Size 60,0000 predicted by k Nearest Neighbors: 0.971 model accuracy\n"
          ],
          "name": "stdout"
        }
      ]
    },
    {
      "cell_type": "markdown",
      "metadata": {
        "id": "HYYYL9cGhWAe"
      },
      "source": [
        "ANSWER: After transformind the data the accuracy reduced to 0.971 which is more realistic."
      ]
    },
    {
      "cell_type": "markdown",
      "metadata": {
        "id": "geAQJjGRhWAe"
      },
      "source": [
        "Fit a 1-NN and output a confusion matrix for the dev data. Use the confusion matrix to identify the most confused pair of digits, and display a few example mistakes.\n",
        "\n",
        "- confusion_matrix() produces a confusion matrix"
      ]
    },
    {
      "cell_type": "code",
      "metadata": {
        "id": "Bq36xaQohWAf",
        "colab": {
          "base_uri": "https://localhost:8080/",
          "height": 602
        },
        "outputId": "ca62c64d-052f-47f2-b88e-30ff4f41725a"
      },
      "source": [
        "def P5():\n",
        "\n",
        "### STUDENT START ###\n",
        "\n",
        "    # Data training\n",
        "    model = KNeighborsClassifier(n_neighbors=1)\n",
        "    model.fit(mini_train_data, mini_train_labels)\n",
        "    dev_predicted_labels = model.predict(dev_data)\n",
        "\n",
        "    # Printing confusion matrix w/ predictions\n",
        "    cm = confusion_matrix(dev_labels, dev_predicted_labels)\n",
        "    print(cm)\n",
        "\n",
        "    # Printing confusion matrix\n",
        "    fig = plt.figure(figsize=(6,6))\n",
        "    ax = fig.add_subplot(111)\n",
        "    cax = ax.matshow(cm, cmap=plt.cm.cool)\n",
        "    plt.title('Confusion Matrix')\n",
        "    plt.colorbar(cax,fraction=0.046, pad=0.06)\n",
        "    plt.xlabel('Predicted')\n",
        "    plt.ylabel('Actual')\n",
        "    plt.xticks(np.arange(0, 10, step=1))\n",
        "    plt.yticks(np.arange(0, 10, step=1))\n",
        "    for a in range(10):\n",
        "        for b in range(10):\n",
        "            plt.text(b,a,str(cm[a][b]), horizontalalignment='center')\n",
        "    plt.show()\n",
        "\n",
        "\n",
        "    # Storing errors \n",
        "    errors = {}\n",
        "\n",
        "    for i in range(0, len(dev_data)):\n",
        "        if dev_predicted_labels[i] != dev_labels[i]:\n",
        "    \n",
        "            pair = (dev_predicted_labels[i], dev_labels[i])\n",
        "        \n",
        "            if pair not in errors.keys():\n",
        "                errors[pair] = 1\n",
        "            else:\n",
        "                errors[pair] += 1\n",
        "\n",
        "    # Sorting \n",
        "    error_sort = sorted(errors, key=errors.get, reverse=True)[:1]\n",
        "    print(\"Most confused pair of digits (predicted, actual):\", error_sort)\n",
        "\n",
        "    \n",
        "    # most confused pairs dataset\n",
        "    pred_X_act_X = np.where((dev_predicted_labels == error_sort[0][0]) & (dev_labels == error_sort[0][1]))\n",
        "    \n",
        "    adding_col = 0\n",
        "\n",
        "    for data_num in (pred_X_act_X[0]):\n",
        "            adding_col += 1\n",
        "        \n",
        "            plt.subplot(1, len(pred_X_act_X[0]), adding_col)\n",
        "            plt.axis('off')\n",
        "        \n",
        "            # 28 x 28 pixels\n",
        "            plt.imshow(dev_data[data_num].reshape(28,28), cmap=plt.cm.gray_r)\n",
        "\n",
        "### STUDENT END ###\n",
        "\n",
        "P5()\n",
        "\n"
      ],
      "execution_count": 144,
      "outputs": [
        {
          "output_type": "stream",
          "text": [
            "[[101   0   1   0   0   0   1   1   2   0]\n",
            " [  0 116   1   0   0   0   0   0   1   0]\n",
            " [  1   4  84   2   2   0   2   4   6   1]\n",
            " [  0   2   0  84   0   6   0   2   3   0]\n",
            " [  0   0   1   0  78   0   0   2   0  11]\n",
            " [  2   0   0   1   1  77   5   0   2   0]\n",
            " [  1   2   1   0   1   2  94   0   1   0]\n",
            " [  0   1   1   0   0   0   0  96   0   4]\n",
            " [  1   5   4   3   1   3   0   1  72   4]\n",
            " [  0   1   0   0   3   2   0   7   0  82]]\n"
          ],
          "name": "stdout"
        },
        {
          "output_type": "display_data",
          "data": {
            "image/png": "[encoded data removed]",
            "text/plain": [
              "<Figure size 432x432 with 2 Axes>"
            ]
          },
          "metadata": {
            "tags": [],
            "needs_background": "light"
          }
        },
        {
          "output_type": "stream",
          "text": [
            "Most confused pair of digits (predicted, actual): [('9', '4')]\n"
          ],
          "name": "stdout"
        },
        {
          "output_type": "display_data",
          "data": {
            "image/png": "[encoded data removed]",
            "text/plain": [
              "<Figure size 432x288 with 11 Axes>"
            ]
          },
          "metadata": {
            "tags": [],
            "needs_background": "light"
          }
        }
      ]
    },
    {
      "cell_type": "markdown",
      "metadata": {
        "id": "tgqMKb-hhWAh"
      },
      "source": [
        "(6) A common image processing technique is to smooth an image by blurring. The idea is that the value of a particular pixel is estimated as the weighted combination of the original value and the values around it. Typically, the blurring is Gaussian -- that is, the weight of a pixel's influence is determined by a Gaussian function over the distance to the relevant pixel.\n",
        "\n",
        "Implement a simplified Gaussian blur by just using the 8 neighboring pixels: the smoothed value of a pixel is a weighted combination of the original value and the 8 neighboring values. Try applying your blur filter in 3 ways:\n",
        "- blur the training data but not the dev data\n",
        "- blur the dev data but not the training data\n",
        "- blur both training and dev data\n",
        "\n",
        "Note that there are Guassian blur filters available, for example in scipy.ndimage.filters. You're welcome to experiment with those, but you are likely to get the best results with the simplified version I described above."
      ]
    },
    {
      "cell_type": "code",
      "metadata": {
        "id": "lSKHmHGshWAi",
        "colab": {
          "base_uri": "https://localhost:8080/",
          "height": 267
        },
        "outputId": "420b9463-c86c-4b50-e109-2fc609b00d1c"
      },
      "source": [
        "def P6():\n",
        "    \n",
        "### STUDENT START ###\n",
        "\n",
        "    def blur (dataset):\n",
        "        \n",
        "        mini_6_blur_data = dataset.copy()\n",
        "    \n",
        "        blur_image = np.zeros((28,28))\n",
        "    \n",
        "        for image in range(len(mini_6_blur_data)):\n",
        "            x = dataset[image].reshape(28,28)\n",
        "        \n",
        "            for row in range(28):\n",
        "                for col in range(28):\n",
        "                \n",
        "                    nn = x[max(0,row-1):row+2, max(0,col-1):col+2]\n",
        "                    \n",
        "                    blur_image[row][col] = np.sum(nn) / float(nn.size)\n",
        "\n",
        "            mini_6_blur_data[image] = blur_image.reshape(dataset.shape[1])\n",
        "    \n",
        "        return mini_6_blur_data\n",
        "\n",
        "    x = blur(mini_train_data)\n",
        "\n",
        "    plt.subplot(1,2,1)\n",
        "    plt.title(\"Not Blurred Image\")\n",
        "    plt.imshow(mini_train_data[100].reshape(28,28), cmap=plt.cm.gray_r)\n",
        "    plt.subplot(1,2,2)\n",
        "    plt.title(\"Blurred Image\")\n",
        "    plt.imshow(x[100].reshape(28,28), cmap=plt.cm.gray_r)\n",
        "\n",
        "    # k Nearest Neighbors for accuracy \n",
        "    def KNN (train_data, train_labels, predict_data, predict_labels):\n",
        "    \n",
        "        # 1 k Nearest Neighbor application\n",
        "        model = KNeighborsClassifier(n_neighbors=1)\n",
        "        model.fit(train_data, train_labels)\n",
        "        model.predict(predict_data)  \n",
        "        return(model.score(predict_data, predict_labels))\n",
        "    \n",
        "    \n",
        "    #blur function to preprocess the datasets\n",
        "    preprocess_train = blur(mini_train_data)\n",
        "    preprocess_dev = blur(dev_data)\n",
        "\n",
        "    print(\"model accuracy when preprocessing the training data but not the dev data:\", \n",
        "          KNN(preprocess_train, mini_train_labels, dev_data, dev_labels))\n",
        "\n",
        "    print(\"model accuracy when preprocessing the dev data but not the training data:\", \n",
        "          KNN(mini_train_data, mini_train_labels, preprocess_dev, dev_labels))\n",
        "\n",
        "    print(\"model accuracy when preprocessing both training and dev data:\", \n",
        "          KNN(preprocess_train, mini_train_labels, preprocess_dev, dev_labels))\n",
        "\n",
        "### STUDENT END ###\n",
        "\n",
        "P6()"
      ],
      "execution_count": 145,
      "outputs": [
        {
          "output_type": "stream",
          "text": [
            "model accuracy when preprocessing the training data but not the dev data: 0.908\n",
            "model accuracy when preprocessing the dev data but not the training data: 0.868\n",
            "model accuracy when preprocessing both training and dev data: 0.904\n"
          ],
          "name": "stdout"
        },
        {
          "output_type": "display_data",
          "data": {
            "image/png": "[encoded data removed]",
            "text/plain": [
              "<Figure size 432x288 with 2 Axes>"
            ]
          },
          "metadata": {
            "tags": [],
            "needs_background": "light"
          }
        }
      ]
    },
    {
      "cell_type": "markdown",
      "metadata": {
        "id": "FdZpp9b2hWAj"
      },
      "source": [
        "ANSWER: There is a minimal gap between accuracies which might be related to fact that training set should always be more blury to have more capacity for errors, or overgeneralization."
      ]
    },
    {
      "cell_type": "code",
      "metadata": {
        "id": "l6MSqz_xrDeq",
        "colab": {
          "base_uri": "https://localhost:8080/",
          "height": 0
        },
        "outputId": "a051f8e3-cc61-46b9-c696-bb2605fa22be"
      },
      "source": [
        "mini_train_data[0]"
      ],
      "execution_count": 146,
      "outputs": [
        {
          "output_type": "execute_result",
          "data": {
            "text/plain": [
              "array([0.        , 0.        , 0.        , 0.        , 0.        ,\n",
              "       0.        , 0.        , 0.        , 0.        , 0.        ,\n",
              "       0.        , 0.        , 0.        , 0.        , 0.        ,\n",
              "       0.        , 0.        , 0.        , 0.        , 0.        ,\n",
              "       0.        , 0.        , 0.        , 0.        , 0.        ,\n",
              "       0.        , 0.        , 0.        , 0.        , 0.        ,\n",
              "       0.        , 0.        , 0.        , 0.        , 0.        ,\n",
              "       0.        , 0.        , 0.        , 0.        , 0.        ,\n",
              "       0.        , 0.        , 0.        , 0.        , 0.        ,\n",
              "       0.        , 0.        , 0.        , 0.        , 0.        ,\n",
              "       0.        , 0.        , 0.        , 0.        , 0.        ,\n",
              "       0.        , 0.        , 0.        , 0.        , 0.        ,\n",
              "       0.        , 0.        , 0.        , 0.        , 0.        ,\n",
              "       0.        , 0.        , 0.        , 0.        , 0.        ,\n",
              "       0.        , 0.        , 0.        , 0.        , 0.        ,\n",
              "       0.        , 0.        , 0.        , 0.        , 0.        ,\n",
              "       0.        , 0.        , 0.        , 0.        , 0.        ,\n",
              "       0.        , 0.        , 0.        , 0.        , 0.        ,\n",
              "       0.        , 0.        , 0.        , 0.        , 0.        ,\n",
              "       0.        , 0.        , 0.        , 0.        , 0.        ,\n",
              "       0.        , 0.        , 0.        , 0.        , 0.        ,\n",
              "       0.        , 0.        , 0.        , 0.        , 0.        ,\n",
              "       0.        , 0.        , 0.        , 0.        , 0.        ,\n",
              "       0.        , 0.        , 0.        , 0.        , 0.        ,\n",
              "       0.        , 0.        , 0.        , 0.        , 0.        ,\n",
              "       0.34901961, 0.57647059, 0.57647059, 0.97647059, 0.90196078,\n",
              "       0.23137255, 0.00784314, 0.        , 0.        , 0.        ,\n",
              "       0.        , 0.        , 0.        , 0.        , 0.        ,\n",
              "       0.        , 0.        , 0.        , 0.        , 0.        ,\n",
              "       0.        , 0.        , 0.        , 0.        , 0.        ,\n",
              "       0.        , 0.05882353, 0.62745098, 0.97647059, 0.99607843,\n",
              "       0.99607843, 0.99607843, 0.99607843, 0.99607843, 0.47843137,\n",
              "       0.        , 0.        , 0.        , 0.        , 0.        ,\n",
              "       0.        , 0.        , 0.        , 0.        , 0.        ,\n",
              "       0.        , 0.        , 0.        , 0.        , 0.        ,\n",
              "       0.        , 0.        , 0.        , 0.03137255, 0.7372549 ,\n",
              "       0.99607843, 0.99607843, 0.99607843, 0.98039216, 0.57647059,\n",
              "       0.65098039, 0.99215686, 0.98431373, 0.47058824, 0.        ,\n",
              "       0.        , 0.        , 0.        , 0.        , 0.        ,\n",
              "       0.        , 0.        , 0.        , 0.        , 0.        ,\n",
              "       0.        , 0.        , 0.        , 0.        , 0.        ,\n",
              "       0.05490196, 0.74117647, 0.99607843, 0.99607843, 0.81176471,\n",
              "       0.40392157, 0.08627451, 0.        , 0.        , 0.49411765,\n",
              "       0.99215686, 0.78431373, 0.03137255, 0.        , 0.        ,\n",
              "       0.        , 0.        , 0.        , 0.        , 0.        ,\n",
              "       0.        , 0.        , 0.        , 0.        , 0.        ,\n",
              "       0.        , 0.        , 0.        , 0.63921569, 0.99607843,\n",
              "       0.99607843, 0.89019608, 0.05882353, 0.        , 0.        ,\n",
              "       0.        , 0.        , 0.        , 0.96078431, 0.99607843,\n",
              "       0.30588235, 0.        , 0.        , 0.        , 0.        ,\n",
              "       0.        , 0.        , 0.        , 0.        , 0.        ,\n",
              "       0.        , 0.        , 0.        , 0.        , 0.        ,\n",
              "       0.35686275, 0.97254902, 0.99607843, 0.89019608, 0.16862745,\n",
              "       0.        , 0.        , 0.        , 0.        , 0.        ,\n",
              "       0.        , 0.94117647, 0.99607843, 0.78431373, 0.01176471,\n",
              "       0.        , 0.        , 0.        , 0.        , 0.        ,\n",
              "       0.        , 0.        , 0.        , 0.        , 0.        ,\n",
              "       0.        , 0.        , 0.01568627, 0.84705882, 0.99607843,\n",
              "       0.99607843, 0.76078431, 0.61960784, 0.13333333, 0.        ,\n",
              "       0.        , 0.        , 0.        , 0.        , 0.53333333,\n",
              "       0.99607843, 0.99607843, 0.01960784, 0.        , 0.        ,\n",
              "       0.        , 0.        , 0.        , 0.        , 0.        ,\n",
              "       0.        , 0.        , 0.        , 0.        , 0.        ,\n",
              "       0.02352941, 0.99607843, 0.99607843, 0.99607843, 0.99607843,\n",
              "       0.99607843, 0.50588235, 0.        , 0.        , 0.        ,\n",
              "       0.        , 0.        , 0.53333333, 0.99607843, 0.99607843,\n",
              "       0.01960784, 0.        , 0.        , 0.        , 0.        ,\n",
              "       0.        , 0.        , 0.        , 0.        , 0.        ,\n",
              "       0.        , 0.        , 0.        , 0.23529412, 0.99607843,\n",
              "       0.99607843, 0.99607843, 0.99607843, 0.47843137, 0.04313725,\n",
              "       0.        , 0.        , 0.        , 0.        , 0.        ,\n",
              "       0.50588235, 0.99607843, 0.99607843, 0.01960784, 0.        ,\n",
              "       0.        , 0.        , 0.        , 0.        , 0.        ,\n",
              "       0.        , 0.        , 0.        , 0.        , 0.        ,\n",
              "       0.        , 0.45098039, 0.99607843, 0.99607843, 0.99607843,\n",
              "       0.8745098 , 0.08627451, 0.        , 0.        , 0.        ,\n",
              "       0.        , 0.        , 0.        , 0.2       , 0.99607843,\n",
              "       0.99607843, 0.01960784, 0.        , 0.        , 0.        ,\n",
              "       0.        , 0.        , 0.        , 0.        , 0.        ,\n",
              "       0.        , 0.        , 0.        , 0.        , 0.45098039,\n",
              "       0.99607843, 0.99607843, 0.99607843, 0.80392157, 0.        ,\n",
              "       0.        , 0.        , 0.        , 0.        , 0.        ,\n",
              "       0.        , 0.53333333, 0.99607843, 0.99607843, 0.01960784,\n",
              "       0.        , 0.        , 0.        , 0.        , 0.        ,\n",
              "       0.        , 0.        , 0.        , 0.        , 0.        ,\n",
              "       0.        , 0.        , 0.45098039, 0.99607843, 0.99607843,\n",
              "       0.99607843, 0.98823529, 0.21960784, 0.        , 0.        ,\n",
              "       0.        , 0.        , 0.        , 0.        , 0.53333333,\n",
              "       0.99607843, 0.99607843, 0.01960784, 0.        , 0.        ,\n",
              "       0.        , 0.        , 0.        , 0.        , 0.        ,\n",
              "       0.        , 0.        , 0.        , 0.        , 0.        ,\n",
              "       0.34901961, 0.99607843, 0.99607843, 0.99607843, 0.99607843,\n",
              "       0.23137255, 0.        , 0.        , 0.        , 0.        ,\n",
              "       0.        , 0.        , 0.53333333, 0.99607843, 0.99607843,\n",
              "       0.01960784, 0.        , 0.        , 0.        , 0.        ,\n",
              "       0.        , 0.        , 0.        , 0.        , 0.        ,\n",
              "       0.        , 0.        , 0.        , 0.02352941, 0.99607843,\n",
              "       0.99607843, 0.99607843, 0.99607843, 0.39607843, 0.        ,\n",
              "       0.        , 0.        , 0.        , 0.        , 0.        ,\n",
              "       0.87843137, 0.99607843, 0.99607843, 0.01960784, 0.        ,\n",
              "       0.        , 0.        , 0.        , 0.        , 0.        ,\n",
              "       0.        , 0.        , 0.        , 0.        , 0.        ,\n",
              "       0.        , 0.00392157, 0.11372549, 0.8627451 , 0.99607843,\n",
              "       0.99607843, 0.65490196, 0.        , 0.        , 0.        ,\n",
              "       0.        , 0.        , 0.25490196, 0.98039216, 0.99607843,\n",
              "       0.78039216, 0.01176471, 0.        , 0.        , 0.        ,\n",
              "       0.        , 0.        , 0.        , 0.        , 0.        ,\n",
              "       0.        , 0.        , 0.        , 0.        , 0.        ,\n",
              "       0.        , 0.23921569, 0.81960784, 0.99607843, 0.89019608,\n",
              "       0.05882353, 0.        , 0.        , 0.        , 0.0627451 ,\n",
              "       0.85882353, 0.99607843, 1.        , 0.30196078, 0.        ,\n",
              "       0.        , 0.        , 0.        , 0.        , 0.        ,\n",
              "       0.        , 0.        , 0.        , 0.        , 0.        ,\n",
              "       0.        , 0.        , 0.        , 0.        , 0.        ,\n",
              "       0.47058824, 0.99607843, 0.99607843, 0.60784314, 0.        ,\n",
              "       0.        , 0.03529412, 0.7254902 , 0.99607843, 0.99607843,\n",
              "       0.78431373, 0.03137255, 0.        , 0.        , 0.        ,\n",
              "       0.        , 0.        , 0.        , 0.        , 0.        ,\n",
              "       0.        , 0.        , 0.        , 0.        , 0.        ,\n",
              "       0.        , 0.        , 0.        , 0.02745098, 0.73333333,\n",
              "       0.99607843, 0.99607843, 0.70588235, 0.55294118, 0.95686275,\n",
              "       0.99607843, 0.99607843, 0.98431373, 0.46666667, 0.        ,\n",
              "       0.        , 0.        , 0.        , 0.        , 0.        ,\n",
              "       0.        , 0.        , 0.        , 0.        , 0.        ,\n",
              "       0.        , 0.        , 0.        , 0.        , 0.        ,\n",
              "       0.        , 0.        , 0.05882353, 0.71764706, 0.99607843,\n",
              "       0.99607843, 0.99607843, 0.99607843, 0.99607843, 0.89019608,\n",
              "       0.4627451 , 0.        , 0.        , 0.        , 0.        ,\n",
              "       0.        , 0.        , 0.        , 0.        , 0.        ,\n",
              "       0.        , 0.        , 0.        , 0.        , 0.        ,\n",
              "       0.        , 0.        , 0.        , 0.        , 0.        ,\n",
              "       0.        , 0.05098039, 0.35686275, 0.84313725, 0.99607843,\n",
              "       0.96078431, 0.4745098 , 0.09019608, 0.        , 0.        ,\n",
              "       0.        , 0.        , 0.        , 0.        , 0.        ,\n",
              "       0.        , 0.        , 0.        , 0.        , 0.        ,\n",
              "       0.        , 0.        , 0.        , 0.        , 0.        ,\n",
              "       0.        , 0.        , 0.        , 0.        , 0.        ,\n",
              "       0.        , 0.        , 0.        , 0.        , 0.        ,\n",
              "       0.        , 0.        , 0.        , 0.        , 0.        ,\n",
              "       0.        , 0.        , 0.        , 0.        , 0.        ,\n",
              "       0.        , 0.        , 0.        , 0.        , 0.        ,\n",
              "       0.        , 0.        , 0.        , 0.        , 0.        ,\n",
              "       0.        , 0.        , 0.        , 0.        , 0.        ,\n",
              "       0.        , 0.        , 0.        , 0.        , 0.        ,\n",
              "       0.        , 0.        , 0.        , 0.        , 0.        ,\n",
              "       0.        , 0.        , 0.        , 0.        , 0.        ,\n",
              "       0.        , 0.        , 0.        , 0.        , 0.        ,\n",
              "       0.        , 0.        , 0.        , 0.        , 0.        ,\n",
              "       0.        , 0.        , 0.        , 0.        , 0.        ,\n",
              "       0.        , 0.        , 0.        , 0.        , 0.        ,\n",
              "       0.        , 0.        , 0.        , 0.        , 0.        ,\n",
              "       0.        , 0.        , 0.        , 0.        , 0.        ,\n",
              "       0.        , 0.        , 0.        , 0.        , 0.        ,\n",
              "       0.        , 0.        , 0.        , 0.        , 0.        ,\n",
              "       0.        , 0.        , 0.        , 0.        , 0.        ,\n",
              "       0.        , 0.        , 0.        , 0.        , 0.        ,\n",
              "       0.        , 0.        , 0.        , 0.        ])"
            ]
          },
          "metadata": {
            "tags": []
          },
          "execution_count": 146
        }
      ]
    },
    {
      "cell_type": "markdown",
      "metadata": {
        "id": "LtgepWfAhWAk"
      },
      "source": [
        "(7) Fit a Naive Bayes classifier and report accuracy on the dev data. Remember that Naive Bayes estimates P(feature|label). While sklearn can handle real-valued features, let's start by mapping the pixel values to either 0 or 1. You can do this as a preprocessing step, or with the binarize argument. With binary-valued features, you can use BernoulliNB. Next try mapping the pixel values to 0, 1, or 2, representing white, grey, or black. This mapping requires MultinomialNB. Does the multi-class version improve the results? Why or why not?"
      ]
    },
    {
      "cell_type": "code",
      "metadata": {
        "id": "eGpH-4IQhWAk",
        "colab": {
          "base_uri": "https://localhost:8080/",
          "height": 0
        },
        "outputId": "07fa69d3-ea75-4b22-85b4-3366966a4821"
      },
      "source": [
        "#def P7():\n",
        "\n",
        "### STUDENT START ###\n",
        "\n",
        "from sklearn.metrics import accuracy_score\n",
        "\n",
        "# binarize_example():\n",
        "# Turning  pixels below 0.5 (or threshold) -> 0, greater -> 1\n",
        "def binarize_example(example, threshold = 0.5):\n",
        "    binarized = [ 1 if value > threshold else 0 for value in example ]\n",
        "    return binarized\n",
        "    \n",
        "# binarize_examples():\n",
        "def binarize_examples(examples, threshold = 0.5):\n",
        "    binarized = [ binarize_example(example, threshold) for example in examples ]\n",
        "    return binarized\n",
        "\n",
        "\n",
        "# Turning pixels below 1/3 (or threshold) -> 0, 1/3 through 2/3 -> 1, greater -> 2\n",
        "def ternarize_example(example, threshold_low = 0.33333333, threshold_high = 0.66666666):\n",
        "    ternarized = [ \n",
        "        0 if value < threshold_low else 1 if value < threshold_high else 2\n",
        "        for value in example\n",
        "    ]\n",
        "    return ternarized\n",
        "\n",
        "# ternarize_examples():\n",
        "def ternarize_examples(examples, threshold_low = 0.33333333, threshold_high = 0.66666666):\n",
        "    ternarized = [ \n",
        "        ternarize_example(example, threshold_low, threshold_high) \n",
        "        for example in examples \n",
        "    ]\n",
        "    return ternarized\n",
        "\n",
        "def P7():\n",
        "    binarized_train_data = binarize_examples(train_data)\n",
        "    \n",
        "    binary_naive_bayes = BernoulliNB()\n",
        "    binary_naive_bayes.fit(binarized_train_data, train_labels)\n",
        "\n",
        "    binarized_dev_data = binarize_examples(dev_data)\n",
        "    binary_naive_bayes_predicted = binary_naive_bayes.predict(binarized_dev_data)\n",
        "    \n",
        "    target_names = [ str(i) for i in range(10) ]\n",
        "    \n",
        "    print('--- binarized reoprt ---')\n",
        "    print('')\n",
        "    print(classification_report(\n",
        "            dev_labels, \n",
        "            binary_naive_bayes_predicted, \n",
        "            target_names = target_names))\n",
        "    print(' accuracy score: ')\n",
        "    print(accuracy_score(dev_labels, binary_naive_bayes_predicted, normalize = True))\n",
        "    \n",
        "    ternarized_train_data = ternarize_examples(train_data)\n",
        "    \n",
        "    ternary_naive_bayes = MultinomialNB()\n",
        "    ternary_naive_bayes.fit(ternarized_train_data, train_labels)\n",
        "    \n",
        "    ternarized_dev_data = ternarize_examples(dev_data)\n",
        "    \n",
        "    ternary_naive_bayes_predicted = ternary_naive_bayes.predict(ternarized_dev_data)\n",
        "    print('--- ternarized report ---')\n",
        "    print('')\n",
        "    print(classification_report(\n",
        "            dev_labels, \n",
        "            ternary_naive_bayes_predicted, \n",
        "            target_names = target_names))\n",
        "    print(' accuracy score: ')\n",
        "    print(accuracy_score(dev_labels, ternary_naive_bayes_predicted, normalize = True))\n",
        "    \n",
        "P7()\n",
        "    \n",
        "### STUDENT END ###"
      ],
      "execution_count": 157,
      "outputs": [
        {
          "output_type": "stream",
          "text": [
            "--- binarized reoprt ---\n",
            "\n",
            "              precision    recall  f1-score   support\n",
            "\n",
            "           0       0.92      0.92      0.92       106\n",
            "           1       0.90      0.96      0.93       118\n",
            "           2       0.84      0.75      0.79       106\n",
            "           3       0.72      0.77      0.75        97\n",
            "           4       0.76      0.86      0.81        92\n",
            "           5       0.89      0.72      0.79        88\n",
            "           6       0.84      0.90      0.87       102\n",
            "           7       0.94      0.87      0.90       102\n",
            "           8       0.68      0.70      0.69        94\n",
            "           9       0.78      0.77      0.77        95\n",
            "\n",
            "    accuracy                           0.83      1000\n",
            "   macro avg       0.83      0.82      0.82      1000\n",
            "weighted avg       0.83      0.83      0.83      1000\n",
            "\n",
            " accuracy score: \n",
            "0.827\n",
            "--- ternarized report ---\n",
            "\n",
            "              precision    recall  f1-score   support\n",
            "\n",
            "           0       0.91      0.92      0.92       106\n",
            "           1       0.89      0.92      0.90       118\n",
            "           2       0.85      0.75      0.79       106\n",
            "           3       0.74      0.77      0.75        97\n",
            "           4       0.78      0.84      0.81        92\n",
            "           5       0.91      0.67      0.77        88\n",
            "           6       0.86      0.91      0.89       102\n",
            "           7       0.98      0.86      0.92       102\n",
            "           8       0.61      0.72      0.66        94\n",
            "           9       0.76      0.82      0.79        95\n",
            "\n",
            "    accuracy                           0.82      1000\n",
            "   macro avg       0.83      0.82      0.82      1000\n",
            "weighted avg       0.83      0.82      0.82      1000\n",
            "\n",
            " accuracy score: \n",
            "0.823\n"
          ],
          "name": "stdout"
        }
      ]
    },
    {
      "cell_type": "markdown",
      "metadata": {
        "id": "zNLrgggohWAm"
      },
      "source": [
        "ANSWER:"
      ]
    },
    {
      "cell_type": "markdown",
      "metadata": {
        "id": "PqjbRLg7hWAm"
      },
      "source": [
        "(8) Use GridSearchCV to perform a search over values of alpha (the Laplace smoothing parameter) in a Bernoulli NB model. What is the best value for alpha? What is the accuracy when alpha=0? Is this what you'd expect?\n",
        "\n",
        "- Note that GridSearchCV partitions the training data so the results will be a bit different than if you used the dev data for evaluation."
      ]
    },
    {
      "cell_type": "code",
      "metadata": {
        "id": "0AvZ-Wp3hWAn",
        "colab": {
          "base_uri": "https://localhost:8080/",
          "height": 0
        },
        "outputId": "6da23685-00b9-4115-d575-d61cb62678a8"
      },
      "source": [
        "#def P8(alphas):\n",
        "\n",
        "### STUDENT START ###\n",
        "\n",
        "def P8(alphas):\n",
        "    binarized_train_data = binarize_examples(train_data)\n",
        "    \n",
        "    bernoulli_naive_bayes = BernoulliNB()\n",
        "    \n",
        "    grid_search = GridSearchCV(bernoulli_naive_bayes, alphas, verbose = 3)\n",
        "    grid_search.fit(binarized_train_data, train_labels)\n",
        "\n",
        "    return grid_search\n",
        "\n",
        "alphas = {'alpha': [0.0, 0.0001, 0.001, 0.01, 0.1, 0.5, 1.0, 2.0, 10.0]}\n",
        "nb = P8(alphas)\n",
        "print(nb.best_params_)\n",
        "\n",
        "### STUDENT END ###\n",
        "#alphas = {'alpha': [0.0, 0.0001, 0.001, 0.01, 0.1, 0.5, 1.0, 2.0, 10.0]}\n",
        "#nb = P8(alphas)"
      ],
      "execution_count": 163,
      "outputs": [
        {
          "output_type": "stream",
          "text": [
            "Fitting 5 folds for each of 9 candidates, totalling 45 fits\n",
            "[CV] alpha=0.0 .......................................................\n"
          ],
          "name": "stdout"
        },
        {
          "output_type": "stream",
          "text": [
            "[Parallel(n_jobs=1)]: Using backend SequentialBackend with 1 concurrent workers.\n",
            "/usr/local/lib/python3.6/dist-packages/sklearn/naive_bayes.py:507: UserWarning: alpha too small will result in numeric errors, setting alpha = 1.0e-10\n",
            "  'setting alpha = %.1e' % _ALPHA_MIN)\n"
          ],
          "name": "stderr"
        },
        {
          "output_type": "stream",
          "text": [
            "[CV] ........................... alpha=0.0, score=0.831, total=   7.3s\n",
            "[CV] alpha=0.0 .......................................................\n"
          ],
          "name": "stdout"
        },
        {
          "output_type": "stream",
          "text": [
            "[Parallel(n_jobs=1)]: Done   1 out of   1 | elapsed:    7.3s remaining:    0.0s\n",
            "/usr/local/lib/python3.6/dist-packages/sklearn/naive_bayes.py:507: UserWarning: alpha too small will result in numeric errors, setting alpha = 1.0e-10\n",
            "  'setting alpha = %.1e' % _ALPHA_MIN)\n"
          ],
          "name": "stderr"
        },
        {
          "output_type": "stream",
          "text": [
            "[CV] ........................... alpha=0.0, score=0.839, total=   7.5s\n",
            "[CV] alpha=0.0 .......................................................\n"
          ],
          "name": "stdout"
        },
        {
          "output_type": "stream",
          "text": [
            "[Parallel(n_jobs=1)]: Done   2 out of   2 | elapsed:   14.8s remaining:    0.0s\n",
            "/usr/local/lib/python3.6/dist-packages/sklearn/naive_bayes.py:507: UserWarning: alpha too small will result in numeric errors, setting alpha = 1.0e-10\n",
            "  'setting alpha = %.1e' % _ALPHA_MIN)\n"
          ],
          "name": "stderr"
        },
        {
          "output_type": "stream",
          "text": [
            "[CV] ........................... alpha=0.0, score=0.837, total=   7.3s\n",
            "[CV] alpha=0.0 .......................................................\n"
          ],
          "name": "stdout"
        },
        {
          "output_type": "stream",
          "text": [
            "/usr/local/lib/python3.6/dist-packages/sklearn/naive_bayes.py:507: UserWarning: alpha too small will result in numeric errors, setting alpha = 1.0e-10\n",
            "  'setting alpha = %.1e' % _ALPHA_MIN)\n"
          ],
          "name": "stderr"
        },
        {
          "output_type": "stream",
          "text": [
            "[CV] ........................... alpha=0.0, score=0.846, total=   7.2s\n",
            "[CV] alpha=0.0 .......................................................\n"
          ],
          "name": "stdout"
        },
        {
          "output_type": "stream",
          "text": [
            "/usr/local/lib/python3.6/dist-packages/sklearn/naive_bayes.py:507: UserWarning: alpha too small will result in numeric errors, setting alpha = 1.0e-10\n",
            "  'setting alpha = %.1e' % _ALPHA_MIN)\n"
          ],
          "name": "stderr"
        },
        {
          "output_type": "stream",
          "text": [
            "[CV] ........................... alpha=0.0, score=0.836, total=   7.2s\n",
            "[CV] alpha=0.0001 ....................................................\n",
            "[CV] ........................ alpha=0.0001, score=0.831, total=   7.1s\n",
            "[CV] alpha=0.0001 ....................................................\n",
            "[CV] ........................ alpha=0.0001, score=0.839, total=   7.2s\n",
            "[CV] alpha=0.0001 ....................................................\n",
            "[CV] ........................ alpha=0.0001, score=0.837, total=   7.2s\n",
            "[CV] alpha=0.0001 ....................................................\n",
            "[CV] ........................ alpha=0.0001, score=0.846, total=   7.2s\n",
            "[CV] alpha=0.0001 ....................................................\n",
            "[CV] ........................ alpha=0.0001, score=0.836, total=   7.2s\n",
            "[CV] alpha=0.001 .....................................................\n",
            "[CV] ......................... alpha=0.001, score=0.831, total=   7.2s\n",
            "[CV] alpha=0.001 .....................................................\n",
            "[CV] ......................... alpha=0.001, score=0.840, total=   7.1s\n",
            "[CV] alpha=0.001 .....................................................\n",
            "[CV] ......................... alpha=0.001, score=0.837, total=   7.2s\n",
            "[CV] alpha=0.001 .....................................................\n",
            "[CV] ......................... alpha=0.001, score=0.846, total=   7.2s\n",
            "[CV] alpha=0.001 .....................................................\n",
            "[CV] ......................... alpha=0.001, score=0.836, total=   7.4s\n",
            "[CV] alpha=0.01 ......................................................\n",
            "[CV] .......................... alpha=0.01, score=0.831, total=   7.2s\n",
            "[CV] alpha=0.01 ......................................................\n",
            "[CV] .......................... alpha=0.01, score=0.839, total=   7.2s\n",
            "[CV] alpha=0.01 ......................................................\n",
            "[CV] .......................... alpha=0.01, score=0.837, total=   7.1s\n",
            "[CV] alpha=0.01 ......................................................\n",
            "[CV] .......................... alpha=0.01, score=0.845, total=   7.2s\n",
            "[CV] alpha=0.01 ......................................................\n",
            "[CV] .......................... alpha=0.01, score=0.836, total=   7.2s\n",
            "[CV] alpha=0.1 .......................................................\n",
            "[CV] ........................... alpha=0.1, score=0.831, total=   7.2s\n",
            "[CV] alpha=0.1 .......................................................\n",
            "[CV] ........................... alpha=0.1, score=0.839, total=   7.2s\n",
            "[CV] alpha=0.1 .......................................................\n",
            "[CV] ........................... alpha=0.1, score=0.836, total=   7.2s\n",
            "[CV] alpha=0.1 .......................................................\n",
            "[CV] ........................... alpha=0.1, score=0.845, total=   7.2s\n",
            "[CV] alpha=0.1 .......................................................\n",
            "[CV] ........................... alpha=0.1, score=0.835, total=   7.2s\n",
            "[CV] alpha=0.5 .......................................................\n",
            "[CV] ........................... alpha=0.5, score=0.830, total=   7.2s\n",
            "[CV] alpha=0.5 .......................................................\n",
            "[CV] ........................... alpha=0.5, score=0.838, total=   7.2s\n",
            "[CV] alpha=0.5 .......................................................\n",
            "[CV] ........................... alpha=0.5, score=0.835, total=   7.2s\n",
            "[CV] alpha=0.5 .......................................................\n",
            "[CV] ........................... alpha=0.5, score=0.844, total=   7.3s\n",
            "[CV] alpha=0.5 .......................................................\n",
            "[CV] ........................... alpha=0.5, score=0.835, total=   7.2s\n",
            "[CV] alpha=1.0 .......................................................\n",
            "[CV] ........................... alpha=1.0, score=0.830, total=   7.2s\n",
            "[CV] alpha=1.0 .......................................................\n",
            "[CV] ........................... alpha=1.0, score=0.838, total=   7.2s\n",
            "[CV] alpha=1.0 .......................................................\n",
            "[CV] ........................... alpha=1.0, score=0.835, total=   7.1s\n",
            "[CV] alpha=1.0 .......................................................\n",
            "[CV] ........................... alpha=1.0, score=0.844, total=   7.2s\n",
            "[CV] alpha=1.0 .......................................................\n",
            "[CV] ........................... alpha=1.0, score=0.835, total=   7.3s\n",
            "[CV] alpha=2.0 .......................................................\n",
            "[CV] ........................... alpha=2.0, score=0.830, total=   7.3s\n",
            "[CV] alpha=2.0 .......................................................\n",
            "[CV] ........................... alpha=2.0, score=0.837, total=   7.2s\n",
            "[CV] alpha=2.0 .......................................................\n",
            "[CV] ........................... alpha=2.0, score=0.835, total=   7.2s\n",
            "[CV] alpha=2.0 .......................................................\n",
            "[CV] ........................... alpha=2.0, score=0.844, total=   7.1s\n",
            "[CV] alpha=2.0 .......................................................\n",
            "[CV] ........................... alpha=2.0, score=0.834, total=   7.2s\n",
            "[CV] alpha=10.0 ......................................................\n",
            "[CV] .......................... alpha=10.0, score=0.827, total=   7.2s\n",
            "[CV] alpha=10.0 ......................................................\n",
            "[CV] .......................... alpha=10.0, score=0.835, total=   7.3s\n",
            "[CV] alpha=10.0 ......................................................\n",
            "[CV] .......................... alpha=10.0, score=0.833, total=   7.2s\n",
            "[CV] alpha=10.0 ......................................................\n",
            "[CV] .......................... alpha=10.0, score=0.841, total=   7.2s\n",
            "[CV] alpha=10.0 ......................................................\n",
            "[CV] .......................... alpha=10.0, score=0.832, total=   7.4s\n"
          ],
          "name": "stdout"
        },
        {
          "output_type": "stream",
          "text": [
            "[Parallel(n_jobs=1)]: Done  45 out of  45 | elapsed:  5.4min finished\n",
            "/usr/local/lib/python3.6/dist-packages/sklearn/naive_bayes.py:507: UserWarning: alpha too small will result in numeric errors, setting alpha = 1.0e-10\n",
            "  'setting alpha = %.1e' % _ALPHA_MIN)\n"
          ],
          "name": "stderr"
        },
        {
          "output_type": "stream",
          "text": [
            "{'alpha': 0.0}\n"
          ],
          "name": "stdout"
        }
      ]
    },
    {
      "cell_type": "markdown",
      "metadata": {
        "id": "1yEg9keThWAp"
      },
      "source": [
        "ANSWER:  The best alpha is 0.01"
      ]
    },
    {
      "cell_type": "markdown",
      "metadata": {
        "id": "B07GDiDdhWAq"
      },
      "source": [
        "(9) Try training a model using GuassianNB, which is intended for real-valued features, and evaluate on the dev data. You'll notice that it doesn't work so well. Try to diagnose the problem. You should be able to find a simple fix that returns the accuracy to around the same rate as BernoulliNB. Explain your solution.\n",
        "\n",
        "Hint: examine the parameters estimated by the fit() method, theta\\_ and sigma\\_."
      ]
    },
    {
      "cell_type": "code",
      "metadata": {
        "id": "gBLbTMWChWAq",
        "colab": {
          "base_uri": "https://localhost:8080/",
          "height": 0
        },
        "outputId": "9ce0182a-17d4-48f1-e311-c4fc0d99f90d"
      },
      "source": [
        "def P9():\n",
        "\n",
        "### STUDENT END ###\n",
        "\n",
        "    # Training a model via GuassianNB (mini data)\n",
        "    GaussNB = GaussianNB()\n",
        "    GaussNB.fit(mini_train_data, mini_train_labels)\n",
        "    print('Accuracy on the Dev Data for GuassianNB_Initial:', GaussNB.score(dev_data, dev_labels))\n",
        "\n",
        "    # theta_ = mean, sigma_ = variance\n",
        "    print(\"\\nExamining GaussNB.theta_:\", \"\\nmean:\", '%.3f' % np.mean(GaussNB.theta_), \"\\nstandard deviation:\",\n",
        "         '%.3f' % np.std(GaussNB.theta_), \"\\nmax:\", '%.3f' % np.max(GaussNB.theta_), \"\\nmin:\", \n",
        "          '%.3f' % np.min(GaussNB.theta_))\n",
        "    \n",
        "    print(\"\\nExamining GaussNB.sigma_:\", \"\\nmean:\", '%.3f' % np.mean(GaussNB.sigma_), \"\\nstandard deviation:\",\n",
        "         '%.3f' % np.std(GaussNB.sigma_), \"\\nmax:\", '%.3f' % np.max(GaussNB.sigma_), \"\\nmin:\", \n",
        "          '%.3f' % np.min(GaussNB.sigma_))\n",
        "    print(\"\")\n",
        "    \n",
        "    # Increasing Variance\n",
        "    for x in np.linspace(0.1,1,4):\n",
        "        GaussNB.sigma_ = np.full((10, 784),x)\n",
        "        \n",
        "        print(\"Accuracy on the Dev Data for GuassianNB_Final: \", '%.3f' %\n",
        "              GaussNB.score(dev_data, dev_labels), \" at sigma: \", '%.3f' % x,  sep=\"\")\n",
        "    print(\"\")\n",
        "    \n",
        "    for x in np.linspace(1,10,6):\n",
        "        GaussNB.sigma_ = np.full((10, 784),x)\n",
        "    \n",
        "        print(\"Accuracy on the Dev Data for GuassianNB_Evaluating_Higher_Sigmas: \", '%.3f' %\n",
        "              GaussNB.score(dev_data, dev_labels), \" at sigma: \", x,  sep=\"\")\n",
        "\n",
        "### STUDENT END ###\n",
        "\n",
        "P9()"
      ],
      "execution_count": 161,
      "outputs": [
        {
          "output_type": "stream",
          "text": [
            "Accuracy on the Dev Data for GuassianNB_Initial: 0.593\n",
            "\n",
            "Examining GaussNB.theta_: \n",
            "mean: 0.132 \n",
            "standard deviation: 0.207 \n",
            "max: 0.961 \n",
            "min: 0.000\n",
            "\n",
            "Examining GaussNB.sigma_: \n",
            "mean: 0.053 \n",
            "standard deviation: 0.070 \n",
            "max: 0.212 \n",
            "min: 0.000\n",
            "\n",
            "Accuracy on the Dev Data for GuassianNB_Final: 0.802 at sigma: 0.100\n",
            "Accuracy on the Dev Data for GuassianNB_Final: 0.801 at sigma: 0.400\n",
            "Accuracy on the Dev Data for GuassianNB_Final: 0.801 at sigma: 0.700\n",
            "Accuracy on the Dev Data for GuassianNB_Final: 0.799 at sigma: 1.000\n",
            "\n",
            "Accuracy on the Dev Data for GuassianNB_Evaluating_Higher_Sigmas: 0.799 at sigma: 1.0\n",
            "Accuracy on the Dev Data for GuassianNB_Evaluating_Higher_Sigmas: 0.799 at sigma: 2.8\n",
            "Accuracy on the Dev Data for GuassianNB_Evaluating_Higher_Sigmas: 0.785 at sigma: 4.6\n",
            "Accuracy on the Dev Data for GuassianNB_Evaluating_Higher_Sigmas: 0.777 at sigma: 6.4\n",
            "Accuracy on the Dev Data for GuassianNB_Evaluating_Higher_Sigmas: 0.773 at sigma: 8.2\n",
            "Accuracy on the Dev Data for GuassianNB_Evaluating_Higher_Sigmas: 0.760 at sigma: 10.0\n"
          ],
          "name": "stdout"
        }
      ]
    },
    {
      "cell_type": "markdown",
      "metadata": {
        "id": "1SyHTEJohWAt"
      },
      "source": [
        "ANSWER: Manipulating the Variance by increasing its valus aims for higher accuracy.  This is valid when sigma is increased up to certain level, beyond that it will reduce the accuracy.  The accuracy however did not yeild the same as Bernoulli, it got close but not the same."
      ]
    },
    {
      "cell_type": "markdown",
      "metadata": {
        "id": "dgZMuc1VhWAt"
      },
      "source": [
        "(10) Because Naive Bayes is a generative model, we can use the trained model to generate digits. Train a BernoulliNB model and then generate a 10x20 grid with 20 examples of each digit. Because you're using a Bernoulli model, each pixel output will be either 0 or 1. How do the generated digits compare to the training digits?\n",
        "\n",
        "- You can use np.random.rand() to generate random numbers from a uniform distribution\n",
        "- The estimated probability of each pixel is stored in feature\\_log\\_prob\\_. You'll need to use np.exp() to convert a log probability back to a probability."
      ]
    },
    {
      "cell_type": "code",
      "metadata": {
        "id": "ktii-Mp-hWAu",
        "colab": {
          "base_uri": "https://localhost:8080/",
          "height": 244
        },
        "outputId": "ac82d370-1fb7-4ec3-cdd2-8c9e8f736d82"
      },
      "source": [
        "def P10(num_examples):\n",
        "    \n",
        "### STUDENT START ###\n",
        "\n",
        "    BernNB = BernoulliNB(binarize=.1)\n",
        "    model_fit = BernNB.fit(mini_train_data, mini_train_labels)\n",
        "\n",
        "    # Probabilistic model\n",
        "    pixel_probs = np.exp(model_fit.feature_log_prob_)\n",
        "\n",
        "    adding_rows = 0\n",
        "\n",
        "    for digit in range(10):\n",
        "    \n",
        "        grid = pixel_probs[digit] > np.random.rand(num_examples,28*28)\n",
        "    \n",
        "        for image in range(num_examples):\n",
        "        \n",
        "            adding_rows += 1\n",
        "        \n",
        "            plt.subplot(10, num_examples, adding_rows)\n",
        "            plt.axis('off')\n",
        "        \n",
        "            plt.imshow(grid[image].reshape(28,28), cmap=plt.cm.gray_r)\n",
        "\n",
        "### STUDENT END ###\n",
        "\n",
        "P10(20)"
      ],
      "execution_count": 164,
      "outputs": [
        {
          "output_type": "display_data",
          "data": {
            "image/png": "[encoded data removed]",
            "text/plain": [
              "<Figure size 432x288 with 200 Axes>"
            ]
          },
          "metadata": {
            "tags": [],
            "needs_background": "light"
          }
        }
      ]
    },
    {
      "cell_type": "markdown",
      "metadata": {
        "id": "SuQd1fTGhWAw"
      },
      "source": [
        "ANSWER:Used probability of the pixel being a higher probability than the random number generator to create the data set.  Because the Naive Bayes assumes independence it is more difficult to make this data set.\n"
      ]
    },
    {
      "cell_type": "markdown",
      "metadata": {
        "id": "ksHMg73uhWAx"
      },
      "source": [
        "(11) Remember that a strongly calibrated classifier is rougly 90% accurate when the posterior probability of the predicted class is 0.9. A weakly calibrated classifier is more accurate when the posterior is 90% than when it is 80%. A poorly calibrated classifier has no positive correlation between posterior and accuracy.\n",
        "\n",
        "Train a BernoulliNB model with a reasonable alpha value. For each posterior bucket (think of a bin in a histogram), you want to estimate the classifier's accuracy. So for each prediction, find the bucket the maximum posterior belongs to and update the \"correct\" and \"total\" counters.\n",
        "\n",
        "How would you characterize the calibration for the Naive Bayes model?"
      ]
    },
    {
      "cell_type": "code",
      "metadata": {
        "id": "a1N-St12hWAy"
      },
      "source": [
        "#def P11(buckets, correct, total):\n",
        "    \n",
        "### STUDENT START ###\n",
        "\n",
        "\n",
        "                \n",
        "### STUDENT END ###\n",
        "\n",
        "#buckets = [0.5, 0.9, 0.999, 0.99999, 0.9999999, 0.999999999, 0.99999999999, 0.9999999999999, 1.0]\n",
        "#correct = [0 for i in buckets]\n",
        "#total = [0 for i in buckets]\n",
        "\n",
        "#P11(buckets, correct, total)\n",
        "\n",
        "#for i in range(len(buckets)):\n",
        "#    accuracy = 0.0\n",
        "#    if (total[i] > 0): accuracy = correct[i] / total[i]\n",
        "#    print('p(pred) <= %.13f    total = %3d    accuracy = %.3f' %(buckets[i], total[i], accuracy))"
      ],
      "execution_count": null,
      "outputs": []
    },
    {
      "cell_type": "markdown",
      "metadata": {
        "id": "h-4qQsrrhWA1"
      },
      "source": [
        "ANSWER:"
      ]
    },
    {
      "cell_type": "markdown",
      "metadata": {
        "id": "jLDISyh4hWA1"
      },
      "source": [
        "(12) EXTRA CREDIT\n",
        "\n",
        "Try designing extra features to see if you can improve the performance of Naive Bayes on the dev set. Here are a few ideas to get you started:\n",
        "- Try summing the pixel values in each row and each column.\n",
        "- Try counting the number of enclosed regions; 8 usually has 2 enclosed regions, 9 usually has 1, and 7 usually has 0.\n",
        "\n",
        "Make sure you comment your code well!"
      ]
    },
    {
      "cell_type": "code",
      "metadata": {
        "id": "-P7h-t2ThWA2"
      },
      "source": [
        "#def P12():\n",
        "\n",
        "### STUDENT START ###\n",
        "\n",
        "\n",
        "### STUDENT END ###\n",
        "\n",
        "#P12()"
      ],
      "execution_count": null,
      "outputs": []
    }
  ]
}